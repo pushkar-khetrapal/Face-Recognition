{
 "cells": [
  {
   "cell_type": "code",
   "execution_count": 1,
   "metadata": {},
   "outputs": [],
   "source": [
    "import pymysql"
   ]
  },
  {
   "cell_type": "code",
   "execution_count": 6,
   "metadata": {},
   "outputs": [
    {
     "ename": "SyntaxError",
     "evalue": "invalid syntax (<ipython-input-6-918d6ee6cc1c>, line 15)",
     "output_type": "error",
     "traceback": [
      "\u001b[1;36m  File \u001b[1;32m\"<ipython-input-6-918d6ee6cc1c>\"\u001b[1;36m, line \u001b[1;32m15\u001b[0m\n\u001b[1;33m    '''\u001b[0m\n\u001b[1;37m       \n^\u001b[0m\n\u001b[1;31mSyntaxError\u001b[0m\u001b[1;31m:\u001b[0m invalid syntax\n"
     ]
    }
   ],
   "source": [
    "try:\n",
    "    #a11 = 0\n",
    "    conn = pymysql.connect(='Attendence.sql')\n",
    "    a = conn.cursor()\n",
    "    #a.execute(\"update monday set TimeIn1='\"+str(time)+\"' where EnrollNo='\"+str(100 + score)+\"'\")\n",
    "    #conn.commit()\n",
    "    print('save')\n",
    "    #a11 = time.minute \n",
    "except:\n",
    "    conn.rollback()\n",
    "    print('not save')\n",
    "\n",
    "    conn.close()"
   ]
  },
  {
   "cell_type": "code",
   "execution_count": null,
   "metadata": {},
   "outputs": [],
   "source": []
  }
 ],
 "metadata": {
  "kernelspec": {
   "display_name": "Python 3",
   "language": "python",
   "name": "python3"
  },
  "language_info": {
   "codemirror_mode": {
    "name": "ipython",
    "version": 3
   },
   "file_extension": ".py",
   "mimetype": "text/x-python",
   "name": "python",
   "nbconvert_exporter": "python",
   "pygments_lexer": "ipython3",
   "version": "3.7.2"
  }
 },
 "nbformat": 4,
 "nbformat_minor": 2
}
